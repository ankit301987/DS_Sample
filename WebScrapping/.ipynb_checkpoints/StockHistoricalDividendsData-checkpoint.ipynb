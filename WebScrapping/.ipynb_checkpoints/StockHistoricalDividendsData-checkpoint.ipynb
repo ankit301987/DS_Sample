{
 "cells": [
  {
   "cell_type": "code",
   "execution_count": 1,
   "metadata": {},
   "outputs": [],
   "source": [
    "from bs4 import BeautifulSoup\n",
    "from urllib.request import Request, urlopen"
   ]
  },
  {
   "cell_type": "code",
   "execution_count": 2,
   "metadata": {},
   "outputs": [],
   "source": [
    "req = Request('https://in.investing.com/equities/itc-historical-data-dividends'\n",
    "                , headers={'User-Agent': 'Mozilla/5.0'})"
   ]
  },
  {
   "cell_type": "code",
   "execution_count": 3,
   "metadata": {},
   "outputs": [],
   "source": [
    "pages = urlopen(req).read()"
   ]
  },
  {
   "cell_type": "code",
   "execution_count": 4,
   "metadata": {},
   "outputs": [],
   "source": [
    "soup = BeautifulSoup(pages.decode('utf-8'),'html.parser')"
   ]
  },
  {
   "cell_type": "code",
   "execution_count": 5,
   "metadata": {},
   "outputs": [],
   "source": [
    "list_value = list(soup.children)"
   ]
  },
  {
   "cell_type": "code",
   "execution_count": 7,
   "metadata": {},
   "outputs": [],
   "source": [
    "html_page = list_value[3]"
   ]
  },
  {
   "cell_type": "code",
   "execution_count": 9,
   "metadata": {},
   "outputs": [],
   "source": [
    "html_body=list(html_page.children)[3]"
   ]
  },
  {
   "cell_type": "code",
   "execution_count": 11,
   "metadata": {},
   "outputs": [],
   "source": [
    "table_intended =  html_body.findAllNext('table')[1]"
   ]
  },
  {
   "cell_type": "code",
   "execution_count": 13,
   "metadata": {},
   "outputs": [],
   "source": [
    "tbody = list(table_intended.children)[5]"
   ]
  },
  {
   "cell_type": "code",
   "execution_count": 15,
   "metadata": {},
   "outputs": [],
   "source": [
    "rows = tbody.findAll('tr')"
   ]
  },
  {
   "cell_type": "code",
   "execution_count": 17,
   "metadata": {},
   "outputs": [],
   "source": [
    "list_collection = list()\n",
    "for row in rows:\n",
    "    span_list = row.findAll('span')\n",
    "    dic = dict()\n",
    "    dic['Ex-Dividend Date']=span_list[0].get_text()\n",
    "    dic['Dividend']=span_list[1].get_text()\n",
    "    dic['EPS Payout Ratio']=span_list[2].get_text()\n",
    "    dic['Type']=span_list[3].get_text()\n",
    "    dic['Payment Date']=span_list[4].get_text()\n",
    "    dic['Yield']=span_list[5].get_text()\n",
    "    list_collection.append(dic)\n",
    "    dic = None"
   ]
  },
  {
   "cell_type": "code",
   "execution_count": 18,
   "metadata": {},
   "outputs": [
    {
     "data": {
      "text/html": [
       "<div>\n",
       "<style scoped>\n",
       "    .dataframe tbody tr th:only-of-type {\n",
       "        vertical-align: middle;\n",
       "    }\n",
       "\n",
       "    .dataframe tbody tr th {\n",
       "        vertical-align: top;\n",
       "    }\n",
       "\n",
       "    .dataframe thead th {\n",
       "        text-align: right;\n",
       "    }\n",
       "</style>\n",
       "<table border=\"1\" class=\"dataframe\">\n",
       "  <thead>\n",
       "    <tr style=\"text-align: right;\">\n",
       "      <th></th>\n",
       "      <th>Ex-Dividend Date</th>\n",
       "      <th>Dividend</th>\n",
       "      <th>EPS Payout Ratio</th>\n",
       "      <th>Type</th>\n",
       "      <th>Payment Date</th>\n",
       "      <th>Yield</th>\n",
       "    </tr>\n",
       "  </thead>\n",
       "  <tbody>\n",
       "    <tr>\n",
       "      <td>0</td>\n",
       "      <td>May 22, 2019</td>\n",
       "      <td>5.75</td>\n",
       "      <td>205%</td>\n",
       "      <td>TTM</td>\n",
       "      <td>Jul 16, 2019</td>\n",
       "      <td>2.71%</td>\n",
       "    </tr>\n",
       "    <tr>\n",
       "      <td>1</td>\n",
       "      <td>May 25, 2018</td>\n",
       "      <td>5.15</td>\n",
       "      <td>215%</td>\n",
       "      <td>TTM</td>\n",
       "      <td>Jul 31, 2018</td>\n",
       "      <td>1.73%</td>\n",
       "    </tr>\n",
       "    <tr>\n",
       "      <td>2</td>\n",
       "      <td>Jun 05, 2017</td>\n",
       "      <td>4.75</td>\n",
       "      <td>-</td>\n",
       "      <td>TTM</td>\n",
       "      <td>Jul 31, 2017</td>\n",
       "      <td>1.69%</td>\n",
       "    </tr>\n",
       "    <tr>\n",
       "      <td>3</td>\n",
       "      <td>May 30, 2016</td>\n",
       "      <td>4.3333</td>\n",
       "      <td>-</td>\n",
       "      <td>TTM</td>\n",
       "      <td>Jul 25, 2016</td>\n",
       "      <td>1.37%</td>\n",
       "    </tr>\n",
       "    <tr>\n",
       "      <td>4</td>\n",
       "      <td>Jun 03, 2015</td>\n",
       "      <td>6.25</td>\n",
       "      <td>-</td>\n",
       "      <td>TTM</td>\n",
       "      <td>Aug 30, 2015</td>\n",
       "      <td>1.92%</td>\n",
       "    </tr>\n",
       "  </tbody>\n",
       "</table>\n",
       "</div>"
      ],
      "text/plain": [
       "  Ex-Dividend Date Dividend EPS Payout Ratio Type  Payment Date  Yield\n",
       "0     May 22, 2019     5.75             205%  TTM  Jul 16, 2019  2.71%\n",
       "1     May 25, 2018     5.15             215%  TTM  Jul 31, 2018  1.73%\n",
       "2     Jun 05, 2017     4.75                -  TTM  Jul 31, 2017  1.69%\n",
       "3     May 30, 2016   4.3333                -  TTM  Jul 25, 2016  1.37%\n",
       "4     Jun 03, 2015     6.25                -  TTM  Aug 30, 2015  1.92%"
      ]
     },
     "execution_count": 18,
     "metadata": {},
     "output_type": "execute_result"
    }
   ],
   "source": [
    "import pandas as pd\n",
    "data_frame = pd.DataFrame(list_collection)\n",
    "data_frame.head(15)"
   ]
  },
  {
   "cell_type": "code",
   "execution_count": 24,
   "metadata": {},
   "outputs": [],
   "source": [
    "date_inex = pd.to_datetime(data_frame['Ex-Dividend Date'])\n",
    "data_frame['Ex-Dividend Date'] = date_inex"
   ]
  },
  {
   "cell_type": "code",
   "execution_count": 26,
   "metadata": {},
   "outputs": [],
   "source": [
    "date_inex = pd.to_datetime(data_frame['Payment Date'])\n",
    "data_frame['Payment Date'] = date_inex"
   ]
  },
  {
   "cell_type": "code",
   "execution_count": 27,
   "metadata": {},
   "outputs": [
    {
     "data": {
      "text/html": [
       "<div>\n",
       "<style scoped>\n",
       "    .dataframe tbody tr th:only-of-type {\n",
       "        vertical-align: middle;\n",
       "    }\n",
       "\n",
       "    .dataframe tbody tr th {\n",
       "        vertical-align: top;\n",
       "    }\n",
       "\n",
       "    .dataframe thead th {\n",
       "        text-align: right;\n",
       "    }\n",
       "</style>\n",
       "<table border=\"1\" class=\"dataframe\">\n",
       "  <thead>\n",
       "    <tr style=\"text-align: right;\">\n",
       "      <th></th>\n",
       "      <th>Ex-Dividend Date</th>\n",
       "      <th>Dividend</th>\n",
       "      <th>EPS Payout Ratio</th>\n",
       "      <th>Type</th>\n",
       "      <th>Payment Date</th>\n",
       "      <th>Yield</th>\n",
       "    </tr>\n",
       "  </thead>\n",
       "  <tbody>\n",
       "    <tr>\n",
       "      <td>0</td>\n",
       "      <td>2019-05-22</td>\n",
       "      <td>5.75</td>\n",
       "      <td>205%</td>\n",
       "      <td>TTM</td>\n",
       "      <td>2019-07-16</td>\n",
       "      <td>2.71%</td>\n",
       "    </tr>\n",
       "    <tr>\n",
       "      <td>1</td>\n",
       "      <td>2018-05-25</td>\n",
       "      <td>5.15</td>\n",
       "      <td>215%</td>\n",
       "      <td>TTM</td>\n",
       "      <td>2018-07-31</td>\n",
       "      <td>1.73%</td>\n",
       "    </tr>\n",
       "    <tr>\n",
       "      <td>2</td>\n",
       "      <td>2017-06-05</td>\n",
       "      <td>4.75</td>\n",
       "      <td>-</td>\n",
       "      <td>TTM</td>\n",
       "      <td>2017-07-31</td>\n",
       "      <td>1.69%</td>\n",
       "    </tr>\n",
       "    <tr>\n",
       "      <td>3</td>\n",
       "      <td>2016-05-30</td>\n",
       "      <td>4.3333</td>\n",
       "      <td>-</td>\n",
       "      <td>TTM</td>\n",
       "      <td>2016-07-25</td>\n",
       "      <td>1.37%</td>\n",
       "    </tr>\n",
       "    <tr>\n",
       "      <td>4</td>\n",
       "      <td>2015-06-03</td>\n",
       "      <td>6.25</td>\n",
       "      <td>-</td>\n",
       "      <td>TTM</td>\n",
       "      <td>2015-08-30</td>\n",
       "      <td>1.92%</td>\n",
       "    </tr>\n",
       "  </tbody>\n",
       "</table>\n",
       "</div>"
      ],
      "text/plain": [
       "  Ex-Dividend Date Dividend EPS Payout Ratio Type Payment Date  Yield\n",
       "0       2019-05-22     5.75             205%  TTM   2019-07-16  2.71%\n",
       "1       2018-05-25     5.15             215%  TTM   2018-07-31  1.73%\n",
       "2       2017-06-05     4.75                -  TTM   2017-07-31  1.69%\n",
       "3       2016-05-30   4.3333                -  TTM   2016-07-25  1.37%\n",
       "4       2015-06-03     6.25                -  TTM   2015-08-30  1.92%"
      ]
     },
     "execution_count": 27,
     "metadata": {},
     "output_type": "execute_result"
    }
   ],
   "source": [
    "data_frame"
   ]
  },
  {
   "cell_type": "code",
   "execution_count": 28,
   "metadata": {},
   "outputs": [],
   "source": [
    "data_frame.to_csv('ITC_Dividends.csv')"
   ]
  },
  {
   "cell_type": "code",
   "execution_count": null,
   "metadata": {},
   "outputs": [],
   "source": []
  }
 ],
 "metadata": {
  "kernelspec": {
   "display_name": "Python 3",
   "language": "python",
   "name": "python3"
  },
  "language_info": {
   "codemirror_mode": {
    "name": "ipython",
    "version": 3
   },
   "file_extension": ".py",
   "mimetype": "text/x-python",
   "name": "python",
   "nbconvert_exporter": "python",
   "pygments_lexer": "ipython3",
   "version": "3.7.4"
  }
 },
 "nbformat": 4,
 "nbformat_minor": 2
}
