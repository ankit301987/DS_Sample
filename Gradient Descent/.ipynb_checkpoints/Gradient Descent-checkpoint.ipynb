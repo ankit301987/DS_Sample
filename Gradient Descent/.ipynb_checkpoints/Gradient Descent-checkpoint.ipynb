{
 "cells": [
  {
   "cell_type": "code",
   "execution_count": 694,
   "metadata": {},
   "outputs": [],
   "source": [
    "import pandas as pd\n",
    "import math"
   ]
  },
  {
   "cell_type": "code",
   "execution_count": 695,
   "metadata": {},
   "outputs": [],
   "source": [
    "data = pd.read_csv('test_scores.csv')"
   ]
  },
  {
   "cell_type": "code",
   "execution_count": 696,
   "metadata": {},
   "outputs": [
    {
     "data": {
      "text/html": [
       "<div>\n",
       "<style scoped>\n",
       "    .dataframe tbody tr th:only-of-type {\n",
       "        vertical-align: middle;\n",
       "    }\n",
       "\n",
       "    .dataframe tbody tr th {\n",
       "        vertical-align: top;\n",
       "    }\n",
       "\n",
       "    .dataframe thead th {\n",
       "        text-align: right;\n",
       "    }\n",
       "</style>\n",
       "<table border=\"1\" class=\"dataframe\">\n",
       "  <thead>\n",
       "    <tr style=\"text-align: right;\">\n",
       "      <th></th>\n",
       "      <th>name</th>\n",
       "      <th>math</th>\n",
       "      <th>cs</th>\n",
       "    </tr>\n",
       "  </thead>\n",
       "  <tbody>\n",
       "    <tr>\n",
       "      <td>0</td>\n",
       "      <td>david</td>\n",
       "      <td>92</td>\n",
       "      <td>98</td>\n",
       "    </tr>\n",
       "    <tr>\n",
       "      <td>1</td>\n",
       "      <td>laura</td>\n",
       "      <td>56</td>\n",
       "      <td>68</td>\n",
       "    </tr>\n",
       "    <tr>\n",
       "      <td>2</td>\n",
       "      <td>sanjay</td>\n",
       "      <td>88</td>\n",
       "      <td>81</td>\n",
       "    </tr>\n",
       "    <tr>\n",
       "      <td>3</td>\n",
       "      <td>wei</td>\n",
       "      <td>70</td>\n",
       "      <td>80</td>\n",
       "    </tr>\n",
       "    <tr>\n",
       "      <td>4</td>\n",
       "      <td>jeff</td>\n",
       "      <td>80</td>\n",
       "      <td>83</td>\n",
       "    </tr>\n",
       "    <tr>\n",
       "      <td>5</td>\n",
       "      <td>aamir</td>\n",
       "      <td>49</td>\n",
       "      <td>52</td>\n",
       "    </tr>\n",
       "    <tr>\n",
       "      <td>6</td>\n",
       "      <td>venkat</td>\n",
       "      <td>65</td>\n",
       "      <td>66</td>\n",
       "    </tr>\n",
       "    <tr>\n",
       "      <td>7</td>\n",
       "      <td>virat</td>\n",
       "      <td>35</td>\n",
       "      <td>30</td>\n",
       "    </tr>\n",
       "    <tr>\n",
       "      <td>8</td>\n",
       "      <td>arthur</td>\n",
       "      <td>66</td>\n",
       "      <td>68</td>\n",
       "    </tr>\n",
       "    <tr>\n",
       "      <td>9</td>\n",
       "      <td>paul</td>\n",
       "      <td>67</td>\n",
       "      <td>73</td>\n",
       "    </tr>\n",
       "  </tbody>\n",
       "</table>\n",
       "</div>"
      ],
      "text/plain": [
       "     name  math  cs\n",
       "0   david    92  98\n",
       "1   laura    56  68\n",
       "2  sanjay    88  81\n",
       "3     wei    70  80\n",
       "4    jeff    80  83\n",
       "5   aamir    49  52\n",
       "6  venkat    65  66\n",
       "7   virat    35  30\n",
       "8  arthur    66  68\n",
       "9    paul    67  73"
      ]
     },
     "execution_count": 696,
     "metadata": {},
     "output_type": "execute_result"
    }
   ],
   "source": [
    "data"
   ]
  },
  {
   "cell_type": "code",
   "execution_count": 697,
   "metadata": {},
   "outputs": [],
   "source": [
    "import matplotlib.pyplot as plt"
   ]
  },
  {
   "cell_type": "code",
   "execution_count": 698,
   "metadata": {},
   "outputs": [
    {
     "data": {
      "text/plain": [
       "<matplotlib.collections.PathCollection at 0x2c112c43388>"
      ]
     },
     "execution_count": 698,
     "metadata": {},
     "output_type": "execute_result"
    },
    {
     "data": {
      "image/png": "[encoded data removed]",
      "text/plain": [
       "<Figure size 432x288 with 1 Axes>"
      ]
     },
     "metadata": {
      "needs_background": "light"
     },
     "output_type": "display_data"
    }
   ],
   "source": [
    "plt.xlabel(\"Math Score\")\n",
    "plt.ylabel(\"CS Score\")\n",
    "plt.scatter(data.math, data.cs)"
   ]
  },
  {
   "cell_type": "markdown",
   "metadata": {},
   "source": [
    "Since we are having only 1 feature, then we will use the eq => Y =  mX+c with considering m and c with some random value"
   ]
  },
  {
   "cell_type": "code",
   "execution_count": 699,
   "metadata": {},
   "outputs": [],
   "source": [
    "m = 0\n",
    "c = 0"
   ]
  },
  {
   "cell_type": "code",
   "execution_count": 700,
   "metadata": {},
   "outputs": [
    {
     "data": {
      "text/plain": [
       "0    0\n",
       "1    0\n",
       "2    0\n",
       "3    0\n",
       "4    0\n",
       "5    0\n",
       "6    0\n",
       "7    0\n",
       "8    0\n",
       "9    0\n",
       "Name: math, dtype: int64"
      ]
     },
     "execution_count": 700,
     "metadata": {},
     "output_type": "execute_result"
    }
   ],
   "source": [
    "y_predict = data.math * m + c\n",
    "y_predict"
   ]
  },
  {
   "cell_type": "code",
   "execution_count": 701,
   "metadata": {},
   "outputs": [
    {
     "data": {
      "text/plain": [
       "<matplotlib.collections.PathCollection at 0x2c112d10508>"
      ]
     },
     "execution_count": 701,
     "metadata": {},
     "output_type": "execute_result"
    },
    {
     "data": {
      "image/png": "[encoded data removed]",
      "text/plain": [
       "<Figure size 432x288 with 1 Axes>"
      ]
     },
     "metadata": {
      "needs_background": "light"
     },
     "output_type": "display_data"
    }
   ],
   "source": [
    "plt.xlabel(\"Math Score\")\n",
    "plt.ylabel(\"CS Score\")\n",
    "plt.plot(data.math, y_predict, color='red')\n",
    "plt.scatter(data.math, data.cs)"
   ]
  },
  {
   "cell_type": "code",
   "execution_count": 702,
   "metadata": {},
   "outputs": [
    {
     "data": {
      "text/plain": [
       "259955.0"
      ]
     },
     "execution_count": 702,
     "metadata": {},
     "output_type": "execute_result"
    }
   ],
   "source": [
    "costfunction = sum((y_predict- data.cs)**2)/  2*len(data.math)\n",
    "costfunction"
   ]
  },
  {
   "cell_type": "code",
   "execution_count": 703,
   "metadata": {},
   "outputs": [],
   "source": [
    "costfunction_value = []"
   ]
  },
  {
   "cell_type": "code",
   "execution_count": 704,
   "metadata": {},
   "outputs": [],
   "source": [
    "learning_rate = 0.000045\n",
    "n_iteration = 50\n",
    "inde = {}"
   ]
  },
  {
   "cell_type": "code",
   "execution_count": 705,
   "metadata": {},
   "outputs": [],
   "source": [
    "cost_previous = 0\n",
    "number_of_rows = len(data.math)\n",
    "for i in range(1,n_iteration):\n",
    "    inde[str(costfunction)] =[m,c]\n",
    "    costfunction = sum((y_predict- data.cs)**2)/2*number_of_rows\n",
    "    costfunction_value.append(costfunction)\n",
    "    m = m - (learning_rate* (sum((y_predict- data.cs)*data.math)/number_of_rows))\n",
    "    c = c - (learning_rate* (sum((y_predict- data.cs))/number_of_rows))\n",
    "    y_predict = data.math * m + c\n",
    "    if math.isclose(costfunction, cost_previous, rel_tol=1e-20):\n",
    "        print(m)\n",
    "        print(c)\n",
    "        inde[str(costfunction)] =[m,c]\n",
    "        break\n",
    "    cost_previous = costfunction"
   ]
  },
  {
   "cell_type": "code",
   "execution_count": 706,
   "metadata": {},
   "outputs": [],
   "source": [
    "#print(costfunction_value)"
   ]
  },
  {
   "cell_type": "code",
   "execution_count": 707,
   "metadata": {},
   "outputs": [
    {
     "data": {
      "text/plain": [
       "[<matplotlib.lines.Line2D at 0x2c112dd2dc8>]"
      ]
     },
     "execution_count": 707,
     "metadata": {},
     "output_type": "execute_result"
    },
    {
     "data": {
      "image/png": "[encoded data removed]",
      "text/plain": [
       "<Figure size 432x288 with 1 Axes>"
      ]
     },
     "metadata": {
      "needs_background": "light"
     },
     "output_type": "display_data"
    }
   ],
   "source": [
    "plt.xlabel(\"Iteration\")\n",
    "plt.ylabel(\"Cost function value\")\n",
    "plt.plot(list(range(1,50)), costfunction_value, color='red')"
   ]
  },
  {
   "cell_type": "code",
   "execution_count": 708,
   "metadata": {},
   "outputs": [
    {
     "data": {
      "text/plain": [
       "1590.5900393252602"
      ]
     },
     "execution_count": 708,
     "metadata": {},
     "output_type": "execute_result"
    }
   ],
   "source": [
    "costfunction_value.sort()\n",
    "costfunction_value[0]"
   ]
  },
  {
   "cell_type": "code",
   "execution_count": 709,
   "metadata": {},
   "outputs": [
    {
     "name": "stdout",
     "output_type": "stream",
     "text": [
      "For cost function value =259955.0 m and c value will be =>0.2225655 & 0.0031455000000000003\n",
      "For cost function value =161584.04894139274 m and c value will be =>0.39770841616200003 & 0.0056218265595\n",
      "For cost function value =100667.34360643147 m and c value will be =>0.5355331930563714 & 0.007571562078321851\n",
      "For cost function value =62944.367974943496 m and c value will be =>0.6439912968239652 & 0.009106908579700874\n",
      "For cost function value =39584.22590649147 m and c value will be =>0.7293399554943653 & 0.010316160930561948\n",
      "For cost function value =25118.34063058031 m and c value will be =>0.7965031543956433 & 0.01126880079710401\n",
      "For cost function value =16160.268527081775 m and c value will be =>0.8493557133995434 & 0.012019505218954837\n",
      "For cost function value =10612.937382585396 m and c value will be =>0.8909468351413505 & 0.012611301066740957\n",
      "For cost function value =7177.724700582107 m and c value will be =>0.923676021280182 & 0.013078047371758054\n",
      "For cost function value =5050.451980372153 m and c value will be =>0.9494315058564653 & 0.013446388739658097\n",
      "For cost function value =3733.1276480176703 m and c value will be =>0.9696991923193111 & 0.013737292545560277\n",
      "For cost function value =2917.36792119006 m and c value will be =>0.9856483790781363 & 0.013967258595283878\n",
      "For cost function value =2412.204594441054 m and c value will be =>0.9981992193037835 & 0.014149271041138212\n",
      "For cost function value =2099.379647790585 m and c value will be =>1.0080758069067488 & 0.014293547470714188\n",
      "For cost function value =1905.6612086514128 m and c value will be =>1.0158479513577072 & 0.01440812838551632\n",
      "For cost function value =1785.7000722631406 m and c value will be =>1.021964051446048 & 0.014499341077957703\n",
      "For cost function value =1711.4135159021357 m and c value will be =>1.026776964547216 & 0.014572164668962375\n",
      "For cost function value =1665.4111725324299 m and c value will be =>1.0305643638627278 & 0.01463051736612334\n",
      "For cost function value =1636.923970058631 m and c value will be =>1.0335447580938484 & 0.014677482515070506\n",
      "For cost function value =1619.2831065195223 m and c value will be =>1.0358900977646757 & 0.014715486485527219\n",
      "For cost function value =1608.3588928198922 m and c value will be =>1.0377356954854913 & 0.014746438654754754\n",
      "For cost function value =1601.5939982544126 m and c value will be =>1.039188032481621 & 0.014771841564385903\n",
      "For cost function value =1597.4047829447322 m and c value will be =>1.0403309017663187 & 0.014792877605875753\n",
      "For cost function value =1594.8105699455132 m and c value will be =>1.0412302423729565 & 0.014810477235673936\n",
      "For cost function value =1593.2040701348637 m and c value will be =>1.041937943545675 & 0.014825372655625224\n",
      "For cost function value =1592.2092166751565 m and c value will be =>1.042494838361937 & 0.014838140055557421\n",
      "For cost function value =1591.5931282891486 m and c value will be =>1.0429330594966866 & 0.014849232855138937\n",
      "For cost function value =1591.2115920767228 m and c value will be =>1.0432778930381448 & 0.014859007862813417\n",
      "For cost function value =1590.975303475465 m and c value will be =>1.043549237306593 & 0.014867745860986928\n",
      "For cost function value =1590.8289601867434 m and c value will be =>1.0437627508391114 & 0.014875667805079564\n",
      "For cost function value =1590.7383159844849 m and c value will be =>1.0439307557704334 & 0.014882947571005967\n",
      "For cost function value =1590.6821637212634 m and c value will be =>1.0440629487282596 & 0.014889721986519349\n",
      "For cost function value =1590.6473707645591 m and c value will be =>1.044166960256387 & 0.014896098725152808\n",
      "For cost function value =1590.6258046657592 m and c value will be =>1.044248795040201 & 0.014902162518179477\n",
      "For cost function value =1590.6124293652256 m and c value will be =>1.0443131783322575 & 0.014907980042975314\n",
      "For cost function value =1590.6041262577446 m and c value will be =>1.0443638285641275 & 0.014913603769806614\n",
      "For cost function value =1590.5989641313836 m and c value will be =>1.0444036718721794 & 0.014919074988973205\n",
      "For cost function value =1590.5957470734534 m and c value will be =>1.0444350109138323 & 0.014924426192950929\n",
      "For cost function value =1590.5937345090217 m and c value will be =>1.0444596577137226 & 0.014929682950965266\n",
      "For cost function value =1590.5924678333406 m and c value will be =>1.0444790382040177 & 0.014934865384145023\n",
      "For cost function value =1590.5916630531203 m and c value will be =>1.044494274490071 & 0.01493998932636146\n",
      "For cost function value =1590.591144304085 m and c value will be =>1.0445062495875361 & 0.01494506723772462\n",
      "For cost function value =1590.590802681402 m and c value will be =>1.0445156583657866 & 0.014950108923438789\n",
      "For cost function value =1590.5905707452116 m and c value will be =>1.0445230476366993 & 0.01495512209948968\n",
      "For cost function value =1590.590406733034 m and c value will be =>1.0445288477016221 & 0.014960112837799284\n",
      "For cost function value =1590.59028478325 m and c value will be =>1.0445333971765551 & 0.014965085916530507\n",
      "For cost function value =1590.5901888809176 m and c value will be =>1.0445369625277685 & 0.014970045095751538\n",
      "For cost function value =1590.5901091087069 m and c value will be =>1.0445397534449201 & 0.014974993334363758\n"
     ]
    }
   ],
   "source": [
    "for key in inde.keys():\n",
    "    print('For cost function value ='+str(key)+' m and c value will be =>' + \" & \".join(str(v) for v in inde[key] ))"
   ]
  },
  {
   "cell_type": "code",
   "execution_count": 717,
   "metadata": {},
   "outputs": [],
   "source": [
    "m=1.0445397534449201\n",
    "c=0.014974993334363758\n",
    "y_predict = data.math * m + c"
   ]
  },
  {
   "cell_type": "code",
   "execution_count": 718,
   "metadata": {},
   "outputs": [
    {
     "data": {
      "text/plain": [
       "<matplotlib.collections.PathCollection at 0x2c1154471c8>"
      ]
     },
     "execution_count": 718,
     "metadata": {},
     "output_type": "execute_result"
    },
    {
     "data": {
      "image/png": "[encoded data removed]",
      "text/plain": [
       "<Figure size 432x288 with 1 Axes>"
      ]
     },
     "metadata": {
      "needs_background": "light"
     },
     "output_type": "display_data"
    }
   ],
   "source": [
    "plt.xlabel(\"Math Score\")\n",
    "plt.ylabel(\"CS Score\")\n",
    "plt.plot(data.math, y_predict, color='red')\n",
    "plt.scatter(data.math, data.cs)"
   ]
  },
  {
   "cell_type": "code",
   "execution_count": 719,
   "metadata": {},
   "outputs": [],
   "source": [
    "from sklearn.linear_model import LinearRegression"
   ]
  },
  {
   "cell_type": "code",
   "execution_count": 720,
   "metadata": {},
   "outputs": [
    {
     "name": "stdout",
     "output_type": "stream",
     "text": [
      "[1.01773624]\n",
      "1.9152193111569176\n"
     ]
    }
   ],
   "source": [
    "r = LinearRegression()\n",
    "r.fit(data[['math']],data.cs)\n",
    "print(r.coef_)\n",
    "print(r.intercept_)"
   ]
  },
  {
   "cell_type": "code",
   "execution_count": 721,
   "metadata": {},
   "outputs": [
    {
     "data": {
      "text/plain": [
       "array([1.01773624])"
      ]
     },
     "execution_count": 721,
     "metadata": {},
     "output_type": "execute_result"
    }
   ],
   "source": [
    "r.coef_"
   ]
  },
  {
   "cell_type": "code",
   "execution_count": 722,
   "metadata": {},
   "outputs": [
    {
     "data": {
      "text/plain": [
       "1.9152193111569176"
      ]
     },
     "execution_count": 722,
     "metadata": {},
     "output_type": "execute_result"
    }
   ],
   "source": [
    "r.intercept_\n"
   ]
  },
  {
   "cell_type": "code",
   "execution_count": 723,
   "metadata": {},
   "outputs": [
    {
     "data": {
      "text/plain": [
       "0    95.546953\n",
       "1    58.908449\n",
       "2    91.476008\n",
       "3    73.156756\n",
       "4    83.334118\n",
       "5    51.784295\n",
       "6    68.068075\n",
       "7    37.535988\n",
       "8    69.085811\n",
       "9    70.103547\n",
       "Name: math, dtype: float64"
      ]
     },
     "execution_count": 723,
     "metadata": {},
     "output_type": "execute_result"
    }
   ],
   "source": [
    "y_predict = data.math * r.coef_ + r.intercept_\n",
    "y_predict"
   ]
  },
  {
   "cell_type": "code",
   "execution_count": 724,
   "metadata": {},
   "outputs": [
    {
     "data": {
      "text/plain": [
       "<matplotlib.collections.PathCollection at 0x2c1154f2888>"
      ]
     },
     "execution_count": 724,
     "metadata": {},
     "output_type": "execute_result"
    },
    {
     "data": {
      "image/png": "[encoded data removed]",
      "text/plain": [
       "<Figure size 432x288 with 1 Axes>"
      ]
     },
     "metadata": {
      "needs_background": "light"
     },
     "output_type": "display_data"
    }
   ],
   "source": [
    "plt.xlabel(\"Math Score\")\n",
    "plt.ylabel(\"CS Score\")\n",
    "plt.plot(data.math, y_predict, color='red')\n",
    "plt.scatter(data.math, data.cs)"
   ]
  }
 ],
 "metadata": {
  "kernelspec": {
   "display_name": "Python 3",
   "language": "python",
   "name": "python3"
  },
  "language_info": {
   "codemirror_mode": {
    "name": "ipython",
    "version": 3
   },
   "file_extension": ".py",
   "mimetype": "text/x-python",
   "name": "python",
   "nbconvert_exporter": "python",
   "pygments_lexer": "ipython3",
   "version": "3.7.4"
  }
 },
 "nbformat": 4,
 "nbformat_minor": 2
}
