{
 "cells": [
  {
   "cell_type": "code",
   "execution_count": 177,
   "metadata": {},
   "outputs": [],
   "source": [
    "import pandas as pd"
   ]
  },
  {
   "cell_type": "code",
   "execution_count": 178,
   "metadata": {},
   "outputs": [],
   "source": [
    "mf_val_data = pd.read_csv('BankNiftyMotiLalOswalNAV.csv')"
   ]
  },
  {
   "cell_type": "code",
   "execution_count": 179,
   "metadata": {},
   "outputs": [
    {
     "name": "stdout",
     "output_type": "stream",
     "text": [
      "<class 'pandas.core.frame.DataFrame'>\n",
      "RangeIndex: 93 entries, 0 to 92\n",
      "Data columns (total 6 columns):\n",
      "mf_schcode     93 non-null int64\n",
      "navdate        93 non-null object\n",
      "navrs          93 non-null float64\n",
      "navreprice     93 non-null int64\n",
      "navsaprice     93 non-null int64\n",
      "mo_sch_name    93 non-null object\n",
      "dtypes: float64(1), int64(3), object(2)\n",
      "memory usage: 4.5+ KB\n"
     ]
    }
   ],
   "source": [
    "mf_val_data.head()\n",
    "mf_val_data.info()"
   ]
  },
  {
   "cell_type": "code",
   "execution_count": 180,
   "metadata": {},
   "outputs": [
    {
     "data": {
      "text/html": [
       "<div>\n",
       "<style scoped>\n",
       "    .dataframe tbody tr th:only-of-type {\n",
       "        vertical-align: middle;\n",
       "    }\n",
       "\n",
       "    .dataframe tbody tr th {\n",
       "        vertical-align: top;\n",
       "    }\n",
       "\n",
       "    .dataframe thead th {\n",
       "        text-align: right;\n",
       "    }\n",
       "</style>\n",
       "<table border=\"1\" class=\"dataframe\">\n",
       "  <thead>\n",
       "    <tr style=\"text-align: right;\">\n",
       "      <th></th>\n",
       "      <th>navdate</th>\n",
       "      <th>navrs</th>\n",
       "    </tr>\n",
       "  </thead>\n",
       "  <tbody>\n",
       "    <tr>\n",
       "      <td>0</td>\n",
       "      <td>24-01-2020 00:00:00</td>\n",
       "      <td>11.3954</td>\n",
       "    </tr>\n",
       "    <tr>\n",
       "      <td>1</td>\n",
       "      <td>23-01-2020 00:00:00</td>\n",
       "      <td>11.3099</td>\n",
       "    </tr>\n",
       "    <tr>\n",
       "      <td>2</td>\n",
       "      <td>22-01-2020 00:00:00</td>\n",
       "      <td>11.2041</td>\n",
       "    </tr>\n",
       "    <tr>\n",
       "      <td>3</td>\n",
       "      <td>21-01-2020 00:00:00</td>\n",
       "      <td>11.2911</td>\n",
       "    </tr>\n",
       "    <tr>\n",
       "      <td>4</td>\n",
       "      <td>20-01-2020 00:00:00</td>\n",
       "      <td>11.3387</td>\n",
       "    </tr>\n",
       "  </tbody>\n",
       "</table>\n",
       "</div>"
      ],
      "text/plain": [
       "               navdate    navrs\n",
       "0  24-01-2020 00:00:00  11.3954\n",
       "1  23-01-2020 00:00:00  11.3099\n",
       "2  22-01-2020 00:00:00  11.2041\n",
       "3  21-01-2020 00:00:00  11.2911\n",
       "4  20-01-2020 00:00:00  11.3387"
      ]
     },
     "execution_count": 180,
     "metadata": {},
     "output_type": "execute_result"
    }
   ],
   "source": [
    "mf_val_data_filtered = mf_val_data.drop(['mf_schcode','navreprice','navsaprice', 'mo_sch_name'], axis='columns')\n",
    "mf_val_data_filtered.head()"
   ]
  },
  {
   "cell_type": "code",
   "execution_count": 181,
   "metadata": {},
   "outputs": [
    {
     "data": {
      "text/html": [
       "<div>\n",
       "<style scoped>\n",
       "    .dataframe tbody tr th:only-of-type {\n",
       "        vertical-align: middle;\n",
       "    }\n",
       "\n",
       "    .dataframe tbody tr th {\n",
       "        vertical-align: top;\n",
       "    }\n",
       "\n",
       "    .dataframe thead th {\n",
       "        text-align: right;\n",
       "    }\n",
       "</style>\n",
       "<table border=\"1\" class=\"dataframe\">\n",
       "  <thead>\n",
       "    <tr style=\"text-align: right;\">\n",
       "      <th></th>\n",
       "      <th>navrs</th>\n",
       "    </tr>\n",
       "  </thead>\n",
       "  <tbody>\n",
       "    <tr>\n",
       "      <td>count</td>\n",
       "      <td>93.000000</td>\n",
       "    </tr>\n",
       "    <tr>\n",
       "      <td>mean</td>\n",
       "      <td>11.156356</td>\n",
       "    </tr>\n",
       "    <tr>\n",
       "      <td>std</td>\n",
       "      <td>0.567245</td>\n",
       "    </tr>\n",
       "    <tr>\n",
       "      <td>min</td>\n",
       "      <td>9.796800</td>\n",
       "    </tr>\n",
       "    <tr>\n",
       "      <td>25%</td>\n",
       "      <td>10.761200</td>\n",
       "    </tr>\n",
       "    <tr>\n",
       "      <td>50%</td>\n",
       "      <td>11.341300</td>\n",
       "    </tr>\n",
       "    <tr>\n",
       "      <td>75%</td>\n",
       "      <td>11.655000</td>\n",
       "    </tr>\n",
       "    <tr>\n",
       "      <td>max</td>\n",
       "      <td>11.852800</td>\n",
       "    </tr>\n",
       "  </tbody>\n",
       "</table>\n",
       "</div>"
      ],
      "text/plain": [
       "           navrs\n",
       "count  93.000000\n",
       "mean   11.156356\n",
       "std     0.567245\n",
       "min     9.796800\n",
       "25%    10.761200\n",
       "50%    11.341300\n",
       "75%    11.655000\n",
       "max    11.852800"
      ]
     },
     "execution_count": 181,
     "metadata": {},
     "output_type": "execute_result"
    }
   ],
   "source": [
    "mf_val_data_filtered.describe()"
   ]
  },
  {
   "cell_type": "code",
   "execution_count": 182,
   "metadata": {},
   "outputs": [
    {
     "data": {
      "text/html": [
       "<div>\n",
       "<style scoped>\n",
       "    .dataframe tbody tr th:only-of-type {\n",
       "        vertical-align: middle;\n",
       "    }\n",
       "\n",
       "    .dataframe tbody tr th {\n",
       "        vertical-align: top;\n",
       "    }\n",
       "\n",
       "    .dataframe thead th {\n",
       "        text-align: right;\n",
       "    }\n",
       "</style>\n",
       "<table border=\"1\" class=\"dataframe\">\n",
       "  <thead>\n",
       "    <tr style=\"text-align: right;\">\n",
       "      <th></th>\n",
       "      <th>Date</th>\n",
       "      <th>Price</th>\n",
       "      <th>Open</th>\n",
       "      <th>High</th>\n",
       "      <th>Low</th>\n",
       "      <th>Volume</th>\n",
       "      <th>Chg%</th>\n",
       "    </tr>\n",
       "  </thead>\n",
       "  <tbody>\n",
       "    <tr>\n",
       "      <td>0</td>\n",
       "      <td>1/24/2020</td>\n",
       "      <td>31,241.75</td>\n",
       "      <td>31,040.10</td>\n",
       "      <td>31,375.45</td>\n",
       "      <td>30,879.05</td>\n",
       "      <td>424.62K</td>\n",
       "      <td>0.77%</td>\n",
       "    </tr>\n",
       "    <tr>\n",
       "      <td>1</td>\n",
       "      <td>1/23/2020</td>\n",
       "      <td>31,004.05</td>\n",
       "      <td>30,742.20</td>\n",
       "      <td>31,087.25</td>\n",
       "      <td>30,621.35</td>\n",
       "      <td>343.82K</td>\n",
       "      <td>0.99%</td>\n",
       "    </tr>\n",
       "    <tr>\n",
       "      <td>2</td>\n",
       "      <td>1/22/2020</td>\n",
       "      <td>30,701.45</td>\n",
       "      <td>31,061.60</td>\n",
       "      <td>31,149.05</td>\n",
       "      <td>30,614.00</td>\n",
       "      <td>200.58K</td>\n",
       "      <td>-0.80%</td>\n",
       "    </tr>\n",
       "    <tr>\n",
       "      <td>3</td>\n",
       "      <td>1/21/2020</td>\n",
       "      <td>30,947.55</td>\n",
       "      <td>30,978.85</td>\n",
       "      <td>31,171.25</td>\n",
       "      <td>30,858.60</td>\n",
       "      <td>227.48K</td>\n",
       "      <td>-0.43%</td>\n",
       "    </tr>\n",
       "    <tr>\n",
       "      <td>4</td>\n",
       "      <td>1/20/2020</td>\n",
       "      <td>31,080.65</td>\n",
       "      <td>31,923.95</td>\n",
       "      <td>31,923.95</td>\n",
       "      <td>31,050.95</td>\n",
       "      <td>282.23K</td>\n",
       "      <td>-1.61%</td>\n",
       "    </tr>\n",
       "  </tbody>\n",
       "</table>\n",
       "</div>"
      ],
      "text/plain": [
       "        Date      Price       Open       High        Low   Volume    Chg%\n",
       "0  1/24/2020  31,241.75  31,040.10  31,375.45  30,879.05  424.62K   0.77%\n",
       "1  1/23/2020  31,004.05  30,742.20  31,087.25  30,621.35  343.82K   0.99%\n",
       "2  1/22/2020  30,701.45  31,061.60  31,149.05  30,614.00  200.58K  -0.80%\n",
       "3  1/21/2020  30,947.55  30,978.85  31,171.25  30,858.60  227.48K  -0.43%\n",
       "4  1/20/2020  31,080.65  31,923.95  31,923.95  31,050.95  282.23K  -1.61%"
      ]
     },
     "execution_count": 182,
     "metadata": {},
     "output_type": "execute_result"
    }
   ],
   "source": [
    "nifty_bank_data = pd.read_csv('NiftyBank.csv')\n",
    "nifty_bank_data.head()"
   ]
  },
  {
   "cell_type": "code",
   "execution_count": 183,
   "metadata": {},
   "outputs": [],
   "source": [
    "date_inex = pd.to_datetime(nifty_bank_data.Date)"
   ]
  },
  {
   "cell_type": "code",
   "execution_count": 184,
   "metadata": {},
   "outputs": [
    {
     "data": {
      "text/html": [
       "<div>\n",
       "<style scoped>\n",
       "    .dataframe tbody tr th:only-of-type {\n",
       "        vertical-align: middle;\n",
       "    }\n",
       "\n",
       "    .dataframe tbody tr th {\n",
       "        vertical-align: top;\n",
       "    }\n",
       "\n",
       "    .dataframe thead th {\n",
       "        text-align: right;\n",
       "    }\n",
       "</style>\n",
       "<table border=\"1\" class=\"dataframe\">\n",
       "  <thead>\n",
       "    <tr style=\"text-align: right;\">\n",
       "      <th></th>\n",
       "      <th>Date</th>\n",
       "      <th>Price</th>\n",
       "      <th>Open</th>\n",
       "      <th>High</th>\n",
       "      <th>Low</th>\n",
       "      <th>Volume</th>\n",
       "      <th>Chg%</th>\n",
       "    </tr>\n",
       "  </thead>\n",
       "  <tbody>\n",
       "    <tr>\n",
       "      <td>0</td>\n",
       "      <td>2020-01-24</td>\n",
       "      <td>31,241.75</td>\n",
       "      <td>31,040.10</td>\n",
       "      <td>31,375.45</td>\n",
       "      <td>30,879.05</td>\n",
       "      <td>424.62K</td>\n",
       "      <td>0.77%</td>\n",
       "    </tr>\n",
       "    <tr>\n",
       "      <td>1</td>\n",
       "      <td>2020-01-23</td>\n",
       "      <td>31,004.05</td>\n",
       "      <td>30,742.20</td>\n",
       "      <td>31,087.25</td>\n",
       "      <td>30,621.35</td>\n",
       "      <td>343.82K</td>\n",
       "      <td>0.99%</td>\n",
       "    </tr>\n",
       "    <tr>\n",
       "      <td>2</td>\n",
       "      <td>2020-01-22</td>\n",
       "      <td>30,701.45</td>\n",
       "      <td>31,061.60</td>\n",
       "      <td>31,149.05</td>\n",
       "      <td>30,614.00</td>\n",
       "      <td>200.58K</td>\n",
       "      <td>-0.80%</td>\n",
       "    </tr>\n",
       "    <tr>\n",
       "      <td>3</td>\n",
       "      <td>2020-01-21</td>\n",
       "      <td>30,947.55</td>\n",
       "      <td>30,978.85</td>\n",
       "      <td>31,171.25</td>\n",
       "      <td>30,858.60</td>\n",
       "      <td>227.48K</td>\n",
       "      <td>-0.43%</td>\n",
       "    </tr>\n",
       "    <tr>\n",
       "      <td>4</td>\n",
       "      <td>2020-01-20</td>\n",
       "      <td>31,080.65</td>\n",
       "      <td>31,923.95</td>\n",
       "      <td>31,923.95</td>\n",
       "      <td>31,050.95</td>\n",
       "      <td>282.23K</td>\n",
       "      <td>-1.61%</td>\n",
       "    </tr>\n",
       "  </tbody>\n",
       "</table>\n",
       "</div>"
      ],
      "text/plain": [
       "        Date      Price       Open       High        Low   Volume    Chg%\n",
       "0 2020-01-24  31,241.75  31,040.10  31,375.45  30,879.05  424.62K   0.77%\n",
       "1 2020-01-23  31,004.05  30,742.20  31,087.25  30,621.35  343.82K   0.99%\n",
       "2 2020-01-22  30,701.45  31,061.60  31,149.05  30,614.00  200.58K  -0.80%\n",
       "3 2020-01-21  30,947.55  30,978.85  31,171.25  30,858.60  227.48K  -0.43%\n",
       "4 2020-01-20  31,080.65  31,923.95  31,923.95  31,050.95  282.23K  -1.61%"
      ]
     },
     "execution_count": 184,
     "metadata": {},
     "output_type": "execute_result"
    }
   ],
   "source": [
    "nifty_bank_data.Date = date_inex\n",
    "nifty_bank_data.head()"
   ]
  },
  {
   "cell_type": "code",
   "execution_count": 185,
   "metadata": {},
   "outputs": [
    {
     "name": "stdout",
     "output_type": "stream",
     "text": [
      "<class 'pandas.core.frame.DataFrame'>\n",
      "RangeIndex: 93 entries, 0 to 92\n",
      "Data columns (total 2 columns):\n",
      "navdate    93 non-null datetime64[ns]\n",
      "navrs      93 non-null float64\n",
      "dtypes: datetime64[ns](1), float64(1)\n",
      "memory usage: 1.6 KB\n"
     ]
    }
   ],
   "source": [
    "mf_val_data_filtered.navdate = pd.to_datetime(mf_val_data_filtered.navdate)\n",
    "mf_val_data_filtered.head()\n",
    "mf_val_data_filtered.info()"
   ]
  },
  {
   "cell_type": "code",
   "execution_count": 186,
   "metadata": {},
   "outputs": [
    {
     "data": {
      "text/html": [
       "<div>\n",
       "<style scoped>\n",
       "    .dataframe tbody tr th:only-of-type {\n",
       "        vertical-align: middle;\n",
       "    }\n",
       "\n",
       "    .dataframe tbody tr th {\n",
       "        vertical-align: top;\n",
       "    }\n",
       "\n",
       "    .dataframe thead th {\n",
       "        text-align: right;\n",
       "    }\n",
       "</style>\n",
       "<table border=\"1\" class=\"dataframe\">\n",
       "  <thead>\n",
       "    <tr style=\"text-align: right;\">\n",
       "      <th></th>\n",
       "      <th>Date</th>\n",
       "      <th>Price</th>\n",
       "      <th>Open</th>\n",
       "      <th>High</th>\n",
       "      <th>Low</th>\n",
       "      <th>Volume</th>\n",
       "      <th>Chg%</th>\n",
       "      <th>navdate</th>\n",
       "      <th>navrs</th>\n",
       "    </tr>\n",
       "  </thead>\n",
       "  <tbody>\n",
       "    <tr>\n",
       "      <td>0</td>\n",
       "      <td>2020-01-24</td>\n",
       "      <td>31,241.75</td>\n",
       "      <td>31,040.10</td>\n",
       "      <td>31,375.45</td>\n",
       "      <td>30,879.05</td>\n",
       "      <td>424.62K</td>\n",
       "      <td>0.77%</td>\n",
       "      <td>2020-01-24</td>\n",
       "      <td>11.3954</td>\n",
       "    </tr>\n",
       "    <tr>\n",
       "      <td>1</td>\n",
       "      <td>2020-01-23</td>\n",
       "      <td>31,004.05</td>\n",
       "      <td>30,742.20</td>\n",
       "      <td>31,087.25</td>\n",
       "      <td>30,621.35</td>\n",
       "      <td>343.82K</td>\n",
       "      <td>0.99%</td>\n",
       "      <td>2020-01-23</td>\n",
       "      <td>11.3099</td>\n",
       "    </tr>\n",
       "    <tr>\n",
       "      <td>2</td>\n",
       "      <td>2020-01-22</td>\n",
       "      <td>30,701.45</td>\n",
       "      <td>31,061.60</td>\n",
       "      <td>31,149.05</td>\n",
       "      <td>30,614.00</td>\n",
       "      <td>200.58K</td>\n",
       "      <td>-0.80%</td>\n",
       "      <td>2020-01-22</td>\n",
       "      <td>11.2041</td>\n",
       "    </tr>\n",
       "    <tr>\n",
       "      <td>3</td>\n",
       "      <td>2020-01-21</td>\n",
       "      <td>30,947.55</td>\n",
       "      <td>30,978.85</td>\n",
       "      <td>31,171.25</td>\n",
       "      <td>30,858.60</td>\n",
       "      <td>227.48K</td>\n",
       "      <td>-0.43%</td>\n",
       "      <td>2020-01-21</td>\n",
       "      <td>11.2911</td>\n",
       "    </tr>\n",
       "    <tr>\n",
       "      <td>4</td>\n",
       "      <td>2020-01-20</td>\n",
       "      <td>31,080.65</td>\n",
       "      <td>31,923.95</td>\n",
       "      <td>31,923.95</td>\n",
       "      <td>31,050.95</td>\n",
       "      <td>282.23K</td>\n",
       "      <td>-1.61%</td>\n",
       "      <td>2020-01-20</td>\n",
       "      <td>11.3387</td>\n",
       "    </tr>\n",
       "  </tbody>\n",
       "</table>\n",
       "</div>"
      ],
      "text/plain": [
       "        Date      Price       Open       High        Low   Volume    Chg%  \\\n",
       "0 2020-01-24  31,241.75  31,040.10  31,375.45  30,879.05  424.62K   0.77%   \n",
       "1 2020-01-23  31,004.05  30,742.20  31,087.25  30,621.35  343.82K   0.99%   \n",
       "2 2020-01-22  30,701.45  31,061.60  31,149.05  30,614.00  200.58K  -0.80%   \n",
       "3 2020-01-21  30,947.55  30,978.85  31,171.25  30,858.60  227.48K  -0.43%   \n",
       "4 2020-01-20  31,080.65  31,923.95  31,923.95  31,050.95  282.23K  -1.61%   \n",
       "\n",
       "     navdate    navrs  \n",
       "0 2020-01-24  11.3954  \n",
       "1 2020-01-23  11.3099  \n",
       "2 2020-01-22  11.2041  \n",
       "3 2020-01-21  11.2911  \n",
       "4 2020-01-20  11.3387  "
      ]
     },
     "execution_count": 186,
     "metadata": {},
     "output_type": "execute_result"
    }
   ],
   "source": [
    "bank_nifty_mf_data  = pd.concat([nifty_bank_data,mf_val_data_filtered], axis='columns')\n",
    "bank_nifty_mf_data.head()"
   ]
  },
  {
   "cell_type": "code",
   "execution_count": 187,
   "metadata": {},
   "outputs": [],
   "source": [
    "bank_nifty_mf_data=bank_nifty_mf_data.drop(['navdate'], axis='columns')"
   ]
  },
  {
   "cell_type": "code",
   "execution_count": 188,
   "metadata": {},
   "outputs": [],
   "source": [
    "\n",
    "bank_nifty_mf_data.Price = bank_nifty_mf_data.Price.apply(lambda x: x.replace(',',''))\n",
    "bank_nifty_mf_data.Price.head()\n",
    "bank_nifty_mf_data.Price = bank_nifty_mf_data.Price.astype(float)"
   ]
  },
  {
   "cell_type": "code",
   "execution_count": 189,
   "metadata": {},
   "outputs": [
    {
     "name": "stdout",
     "output_type": "stream",
     "text": [
      "<class 'pandas.core.frame.DataFrame'>\n",
      "RangeIndex: 94 entries, 0 to 93\n",
      "Data columns (total 8 columns):\n",
      "Date      94 non-null datetime64[ns]\n",
      "Price     94 non-null float64\n",
      "Open      94 non-null object\n",
      "High      94 non-null object\n",
      "Low       94 non-null object\n",
      "Volume    94 non-null object\n",
      "Chg%      94 non-null object\n",
      "navrs     93 non-null float64\n",
      "dtypes: datetime64[ns](1), float64(2), object(5)\n",
      "memory usage: 6.0+ KB\n"
     ]
    }
   ],
   "source": [
    "bank_nifty_mf_data.info()"
   ]
  },
  {
   "cell_type": "code",
   "execution_count": 190,
   "metadata": {},
   "outputs": [],
   "source": [
    "toDelete = bank_nifty_mf_data[bank_nifty_mf_data.Date < '2019-09-11'].index"
   ]
  },
  {
   "cell_type": "code",
   "execution_count": 203,
   "metadata": {},
   "outputs": [],
   "source": [
    "bank_nifty_mf_data=bank_nifty_mf_data.drop(toDelete, axis='rows')"
   ]
  },
  {
   "cell_type": "code",
   "execution_count": 204,
   "metadata": {},
   "outputs": [
    {
     "name": "stdout",
     "output_type": "stream",
     "text": [
      "<class 'pandas.core.frame.DataFrame'>\n",
      "Int64Index: 92 entries, 0 to 91\n",
      "Data columns (total 8 columns):\n",
      "Date      92 non-null datetime64[ns]\n",
      "Price     92 non-null float64\n",
      "Open      92 non-null object\n",
      "High      92 non-null object\n",
      "Low       92 non-null object\n",
      "Volume    92 non-null object\n",
      "Chg%      92 non-null object\n",
      "navrs     92 non-null float64\n",
      "dtypes: datetime64[ns](1), float64(2), object(5)\n",
      "memory usage: 6.5+ KB\n"
     ]
    }
   ],
   "source": [
    "bank_nifty_mf_data.info() "
   ]
  },
  {
   "cell_type": "code",
   "execution_count": 205,
   "metadata": {},
   "outputs": [],
   "source": [
    "import matplotlib.pyplot as plt\n",
    "import seaborn as sea\n"
   ]
  },
  {
   "cell_type": "code",
   "execution_count": 206,
   "metadata": {},
   "outputs": [
    {
     "data": {
      "text/plain": [
       "<matplotlib.legend.Legend at 0x2532c909988>"
      ]
     },
     "execution_count": 206,
     "metadata": {},
     "output_type": "execute_result"
    },
    {
     "data": {
      "image/png": "[encoded data removed]",
      "text/plain": [
       "<Figure size 1296x720 with 1 Axes>"
      ]
     },
     "metadata": {
      "needs_background": "light"
     },
     "output_type": "display_data"
    }
   ],
   "source": [
    "%matplotlib inline\n",
    "plt.figure(figsize=(18,10))\n",
    "plt.plot(bank_nifty_mf_data.navrs, bank_nifty_mf_data.Price, 'go', label='ClosingPoint')\n",
    "plt.xlabel('Nifty Bank Mutual fund')\n",
    "plt.ylabel('Nifty Bank')\n",
    "plt.legend(loc='best') \n"
   ]
  },
  {
   "cell_type": "code",
   "execution_count": 207,
   "metadata": {},
   "outputs": [],
   "source": [
    "y=bank_nifty_mf_data.navrs"
   ]
  },
  {
   "cell_type": "code",
   "execution_count": 208,
   "metadata": {},
   "outputs": [
    {
     "data": {
      "text/plain": [
       "0    11.3954\n",
       "1    11.3099\n",
       "2    11.2041\n",
       "3    11.2911\n",
       "4    11.3387\n",
       "Name: navrs, dtype: float64"
      ]
     },
     "execution_count": 208,
     "metadata": {},
     "output_type": "execute_result"
    }
   ],
   "source": [
    "y.head()"
   ]
  },
  {
   "cell_type": "code",
   "execution_count": 209,
   "metadata": {},
   "outputs": [
    {
     "data": {
      "text/plain": [
       "0    31241.75\n",
       "1    31004.05\n",
       "2    30701.45\n",
       "3    30947.55\n",
       "4    31080.65\n",
       "Name: Price, dtype: float64"
      ]
     },
     "execution_count": 209,
     "metadata": {},
     "output_type": "execute_result"
    }
   ],
   "source": [
    "X = bank_nifty_mf_data.Price\n",
    "X.head()"
   ]
  },
  {
   "cell_type": "code",
   "execution_count": 210,
   "metadata": {},
   "outputs": [],
   "source": [
    "from sklearn.model_selection import train_test_split\n",
    "X_train,X_test,y_train,y_test = train_test_split(X,y,test_size=0.33)"
   ]
  },
  {
   "cell_type": "code",
   "execution_count": 232,
   "metadata": {},
   "outputs": [],
   "source": [
    "from sklearn.linear_model import LinearRegression"
   ]
  },
  {
   "cell_type": "code",
   "execution_count": 234,
   "metadata": {},
   "outputs": [],
   "source": [
    "import numpy as np\n",
    "p = X_train.to_numpy()\n",
    "p=p[:,np.newaxis]\n",
    "q = X_test.to_numpy()\n",
    "q=q[:,np.newaxis]"
   ]
  },
  {
   "cell_type": "code",
   "execution_count": 233,
   "metadata": {},
   "outputs": [
    {
     "data": {
      "text/plain": [
       "LinearRegression(copy_X=True, fit_intercept=True, n_jobs=None, normalize=False)"
      ]
     },
     "execution_count": 233,
     "metadata": {},
     "output_type": "execute_result"
    }
   ],
   "source": [
    "model = LinearRegression()\n",
    "model.fit(p, y_train)"
   ]
  },
  {
   "cell_type": "code",
   "execution_count": 236,
   "metadata": {},
   "outputs": [
    {
     "data": {
      "text/plain": [
       "0.9994392813996905"
      ]
     },
     "execution_count": 236,
     "metadata": {},
     "output_type": "execute_result"
    }
   ],
   "source": [
    "model.score(q, y_test)"
   ]
  },
  {
   "cell_type": "code",
   "execution_count": 238,
   "metadata": {},
   "outputs": [
    {
     "data": {
      "text/plain": [
       "array([11.4198607])"
      ]
     },
     "execution_count": 238,
     "metadata": {},
     "output_type": "execute_result"
    }
   ],
   "source": [
    "model.predict([[31241.75]])"
   ]
  },
  {
   "cell_type": "code",
   "execution_count": null,
   "metadata": {},
   "outputs": [],
   "source": []
  }
 ],
 "metadata": {
  "kernelspec": {
   "display_name": "Python 3",
   "language": "python",
   "name": "python3"
  },
  "language_info": {
   "codemirror_mode": {
    "name": "ipython",
    "version": 3
   },
   "file_extension": ".py",
   "mimetype": "text/x-python",
   "name": "python",
   "nbconvert_exporter": "python",
   "pygments_lexer": "ipython3",
   "version": "3.7.4"
  }
 },
 "nbformat": 4,
 "nbformat_minor": 2
}
